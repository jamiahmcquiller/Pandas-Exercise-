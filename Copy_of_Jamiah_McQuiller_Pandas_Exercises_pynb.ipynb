{
  "cells": [
    {
      "cell_type": "markdown",
      "metadata": {
        "id": "view-in-github",
        "colab_type": "text"
      },
      "source": [
        "<a href=\"https://colab.research.google.com/github/jmcquiller/Pandas-Exercise-/blob/main/Copy_of_Jamiah_McQuiller_Pandas_Exercises_pynb.ipynb\" target=\"_parent\"><img src=\"https://colab.research.google.com/assets/colab-badge.svg\" alt=\"Open In Colab\"/></a>"
      ]
    },
    {
      "cell_type": "markdown",
      "metadata": {
        "id": "qWQzEdNDInyJ"
      },
      "source": [
        "\n",
        "# Pandas exercises\n",
        "Authors:  Natanael Moura Junior (natanael.junior@mjv.com.br) <br>\n",
        "          Carlos Eduardo Covas Costa (carlos.costa@mjv.com.br) <br>\n",
        "          Yuri Santa Rosa Nassar dos Santos (yuri.santos@mjv.com.br) \n",
        "\n",
        "\n",
        "<img align=\"center\" width=\"200\" src=\"https://raw.githubusercontent.com/natmourajr/data/main/mjv-tecnologia.png?raw=1\">\n",
        "\n",
        "In this exercise, you will receive some false data about some purchases made by Amazon. Just go ahead and follow the directions and try your best to answer the questions and complete the tasks. Feel free to consult the previous materials or the internet to clear your doubts. Most tasks can be solved in different ways. Do not worry if the data does not seem to make sense. These are synthetic data for didactic purposes. Finally, note that all these questions can be answered with one line of code.\n",
        "____\n",
        "**Import pandas and read the \"Ecommerce Purchases\" csv file from the link and set it to a DataFrame called `ecom`.**"
      ]
    },
    {
      "cell_type": "code",
      "execution_count": null,
      "metadata": {
        "collapsed": true,
        "id": "_qFeLQe8InyP"
      },
      "outputs": [],
      "source": [
        "import pandas as pd"
      ]
    },
    {
      "cell_type": "code",
      "execution_count": null,
      "metadata": {
        "collapsed": true,
        "id": "0NTvCOw0InyR"
      },
      "outputs": [],
      "source": [
        "ecom = pd.read_csv('https://raw.githubusercontent.com/daveaditya/udemy-ds-ml-bootcamp/master/04-Pandas-Exercises/Ecommerce%20Purchases',sep=',')"
      ]
    },
    {
      "cell_type": "markdown",
      "source": [
        "**Use the `ecom` dataframe to answer questions 1 until 13.**"
      ],
      "metadata": {
        "id": "sEPrF5XiONzJ"
      }
    },
    {
      "cell_type": "markdown",
      "metadata": {
        "id": "KDF_ykEIInyS"
      },
      "source": [
        "**Question 1** - Check the head of the DataFrame."
      ]
    },
    {
      "cell_type": "code",
      "execution_count": null,
      "metadata": {
        "id": "QcKyBCHeInyS",
        "colab": {
          "base_uri": "https://localhost:8080/",
          "height": 642
        },
        "outputId": "c7102d99-8152-459d-d4e6-8661fd9d63a7"
      },
      "outputs": [
        {
          "output_type": "execute_result",
          "data": {
            "text/html": [
              "\n",
              "  <div id=\"df-2434f96b-91e7-45e1-a213-ecfb1c5a0fe0\">\n",
              "    <div class=\"colab-df-container\">\n",
              "      <div>\n",
              "<style scoped>\n",
              "    .dataframe tbody tr th:only-of-type {\n",
              "        vertical-align: middle;\n",
              "    }\n",
              "\n",
              "    .dataframe tbody tr th {\n",
              "        vertical-align: top;\n",
              "    }\n",
              "\n",
              "    .dataframe thead th {\n",
              "        text-align: right;\n",
              "    }\n",
              "</style>\n",
              "<table border=\"1\" class=\"dataframe\">\n",
              "  <thead>\n",
              "    <tr style=\"text-align: right;\">\n",
              "      <th></th>\n",
              "      <th>Address</th>\n",
              "      <th>Lot</th>\n",
              "      <th>AM or PM</th>\n",
              "      <th>Browser Info</th>\n",
              "      <th>Company</th>\n",
              "      <th>Credit Card</th>\n",
              "      <th>CC Exp Date</th>\n",
              "      <th>CC Security Code</th>\n",
              "      <th>CC Provider</th>\n",
              "      <th>Email</th>\n",
              "      <th>Job</th>\n",
              "      <th>IP Address</th>\n",
              "      <th>Language</th>\n",
              "      <th>Purchase Price</th>\n",
              "    </tr>\n",
              "  </thead>\n",
              "  <tbody>\n",
              "    <tr>\n",
              "      <th>0</th>\n",
              "      <td>16629 Pace Camp Apt. 448\\nAlexisborough, NE 77...</td>\n",
              "      <td>46 in</td>\n",
              "      <td>PM</td>\n",
              "      <td>Opera/9.56.(X11; Linux x86_64; sl-SI) Presto/2...</td>\n",
              "      <td>Martinez-Herman</td>\n",
              "      <td>6011929061123406</td>\n",
              "      <td>02/20</td>\n",
              "      <td>900</td>\n",
              "      <td>JCB 16 digit</td>\n",
              "      <td>pdunlap@yahoo.com</td>\n",
              "      <td>Scientist, product/process development</td>\n",
              "      <td>149.146.147.205</td>\n",
              "      <td>el</td>\n",
              "      <td>98.14</td>\n",
              "    </tr>\n",
              "    <tr>\n",
              "      <th>1</th>\n",
              "      <td>9374 Jasmine Spurs Suite 508\\nSouth John, TN 8...</td>\n",
              "      <td>28 rn</td>\n",
              "      <td>PM</td>\n",
              "      <td>Opera/8.93.(Windows 98; Win 9x 4.90; en-US) Pr...</td>\n",
              "      <td>Fletcher, Richards and Whitaker</td>\n",
              "      <td>3337758169645356</td>\n",
              "      <td>11/18</td>\n",
              "      <td>561</td>\n",
              "      <td>Mastercard</td>\n",
              "      <td>anthony41@reed.com</td>\n",
              "      <td>Drilling engineer</td>\n",
              "      <td>15.160.41.51</td>\n",
              "      <td>fr</td>\n",
              "      <td>70.73</td>\n",
              "    </tr>\n",
              "    <tr>\n",
              "      <th>2</th>\n",
              "      <td>Unit 0065 Box 5052\\nDPO AP 27450</td>\n",
              "      <td>94 vE</td>\n",
              "      <td>PM</td>\n",
              "      <td>Mozilla/5.0 (compatible; MSIE 9.0; Windows NT ...</td>\n",
              "      <td>Simpson, Williams and Pham</td>\n",
              "      <td>675957666125</td>\n",
              "      <td>08/19</td>\n",
              "      <td>699</td>\n",
              "      <td>JCB 16 digit</td>\n",
              "      <td>amymiller@morales-harrison.com</td>\n",
              "      <td>Customer service manager</td>\n",
              "      <td>132.207.160.22</td>\n",
              "      <td>de</td>\n",
              "      <td>0.95</td>\n",
              "    </tr>\n",
              "    <tr>\n",
              "      <th>3</th>\n",
              "      <td>7780 Julia Fords\\nNew Stacy, WA 45798</td>\n",
              "      <td>36 vm</td>\n",
              "      <td>PM</td>\n",
              "      <td>Mozilla/5.0 (Macintosh; Intel Mac OS X 10_8_0 ...</td>\n",
              "      <td>Williams, Marshall and Buchanan</td>\n",
              "      <td>6011578504430710</td>\n",
              "      <td>02/24</td>\n",
              "      <td>384</td>\n",
              "      <td>Discover</td>\n",
              "      <td>brent16@olson-robinson.info</td>\n",
              "      <td>Drilling engineer</td>\n",
              "      <td>30.250.74.19</td>\n",
              "      <td>es</td>\n",
              "      <td>78.04</td>\n",
              "    </tr>\n",
              "    <tr>\n",
              "      <th>4</th>\n",
              "      <td>23012 Munoz Drive Suite 337\\nNew Cynthia, TX 5...</td>\n",
              "      <td>20 IE</td>\n",
              "      <td>AM</td>\n",
              "      <td>Opera/9.58.(X11; Linux x86_64; it-IT) Presto/2...</td>\n",
              "      <td>Brown, Watson and Andrews</td>\n",
              "      <td>6011456623207998</td>\n",
              "      <td>10/25</td>\n",
              "      <td>678</td>\n",
              "      <td>Diners Club / Carte Blanche</td>\n",
              "      <td>christopherwright@gmail.com</td>\n",
              "      <td>Fine artist</td>\n",
              "      <td>24.140.33.94</td>\n",
              "      <td>es</td>\n",
              "      <td>77.82</td>\n",
              "    </tr>\n",
              "  </tbody>\n",
              "</table>\n",
              "</div>\n",
              "      <button class=\"colab-df-convert\" onclick=\"convertToInteractive('df-2434f96b-91e7-45e1-a213-ecfb1c5a0fe0')\"\n",
              "              title=\"Convert this dataframe to an interactive table.\"\n",
              "              style=\"display:none;\">\n",
              "        \n",
              "  <svg xmlns=\"http://www.w3.org/2000/svg\" height=\"24px\"viewBox=\"0 0 24 24\"\n",
              "       width=\"24px\">\n",
              "    <path d=\"M0 0h24v24H0V0z\" fill=\"none\"/>\n",
              "    <path d=\"M18.56 5.44l.94 2.06.94-2.06 2.06-.94-2.06-.94-.94-2.06-.94 2.06-2.06.94zm-11 1L8.5 8.5l.94-2.06 2.06-.94-2.06-.94L8.5 2.5l-.94 2.06-2.06.94zm10 10l.94 2.06.94-2.06 2.06-.94-2.06-.94-.94-2.06-.94 2.06-2.06.94z\"/><path d=\"M17.41 7.96l-1.37-1.37c-.4-.4-.92-.59-1.43-.59-.52 0-1.04.2-1.43.59L10.3 9.45l-7.72 7.72c-.78.78-.78 2.05 0 2.83L4 21.41c.39.39.9.59 1.41.59.51 0 1.02-.2 1.41-.59l7.78-7.78 2.81-2.81c.8-.78.8-2.07 0-2.86zM5.41 20L4 18.59l7.72-7.72 1.47 1.35L5.41 20z\"/>\n",
              "  </svg>\n",
              "      </button>\n",
              "      \n",
              "  <style>\n",
              "    .colab-df-container {\n",
              "      display:flex;\n",
              "      flex-wrap:wrap;\n",
              "      gap: 12px;\n",
              "    }\n",
              "\n",
              "    .colab-df-convert {\n",
              "      background-color: #E8F0FE;\n",
              "      border: none;\n",
              "      border-radius: 50%;\n",
              "      cursor: pointer;\n",
              "      display: none;\n",
              "      fill: #1967D2;\n",
              "      height: 32px;\n",
              "      padding: 0 0 0 0;\n",
              "      width: 32px;\n",
              "    }\n",
              "\n",
              "    .colab-df-convert:hover {\n",
              "      background-color: #E2EBFA;\n",
              "      box-shadow: 0px 1px 2px rgba(60, 64, 67, 0.3), 0px 1px 3px 1px rgba(60, 64, 67, 0.15);\n",
              "      fill: #174EA6;\n",
              "    }\n",
              "\n",
              "    [theme=dark] .colab-df-convert {\n",
              "      background-color: #3B4455;\n",
              "      fill: #D2E3FC;\n",
              "    }\n",
              "\n",
              "    [theme=dark] .colab-df-convert:hover {\n",
              "      background-color: #434B5C;\n",
              "      box-shadow: 0px 1px 3px 1px rgba(0, 0, 0, 0.15);\n",
              "      filter: drop-shadow(0px 1px 2px rgba(0, 0, 0, 0.3));\n",
              "      fill: #FFFFFF;\n",
              "    }\n",
              "  </style>\n",
              "\n",
              "      <script>\n",
              "        const buttonEl =\n",
              "          document.querySelector('#df-2434f96b-91e7-45e1-a213-ecfb1c5a0fe0 button.colab-df-convert');\n",
              "        buttonEl.style.display =\n",
              "          google.colab.kernel.accessAllowed ? 'block' : 'none';\n",
              "\n",
              "        async function convertToInteractive(key) {\n",
              "          const element = document.querySelector('#df-2434f96b-91e7-45e1-a213-ecfb1c5a0fe0');\n",
              "          const dataTable =\n",
              "            await google.colab.kernel.invokeFunction('convertToInteractive',\n",
              "                                                     [key], {});\n",
              "          if (!dataTable) return;\n",
              "\n",
              "          const docLinkHtml = 'Like what you see? Visit the ' +\n",
              "            '<a target=\"_blank\" href=https://colab.research.google.com/notebooks/data_table.ipynb>data table notebook</a>'\n",
              "            + ' to learn more about interactive tables.';\n",
              "          element.innerHTML = '';\n",
              "          dataTable['output_type'] = 'display_data';\n",
              "          await google.colab.output.renderOutput(dataTable, element);\n",
              "          const docLink = document.createElement('div');\n",
              "          docLink.innerHTML = docLinkHtml;\n",
              "          element.appendChild(docLink);\n",
              "        }\n",
              "      </script>\n",
              "    </div>\n",
              "  </div>\n",
              "  "
            ],
            "text/plain": [
              "                                             Address  ... Purchase Price\n",
              "0  16629 Pace Camp Apt. 448\\nAlexisborough, NE 77...  ...          98.14\n",
              "1  9374 Jasmine Spurs Suite 508\\nSouth John, TN 8...  ...          70.73\n",
              "2                   Unit 0065 Box 5052\\nDPO AP 27450  ...           0.95\n",
              "3              7780 Julia Fords\\nNew Stacy, WA 45798  ...          78.04\n",
              "4  23012 Munoz Drive Suite 337\\nNew Cynthia, TX 5...  ...          77.82\n",
              "\n",
              "[5 rows x 14 columns]"
            ]
          },
          "metadata": {},
          "execution_count": 55
        }
      ],
      "source": [
        "#Type your code here\n",
        "x = pd.DataFrame(ecom)\n",
        "x.head(5)"
      ]
    },
    {
      "cell_type": "markdown",
      "metadata": {
        "id": "_mqEozagInyT"
      },
      "source": [
        "**Question 2** - How many rows and columns are there?"
      ]
    },
    {
      "cell_type": "code",
      "execution_count": null,
      "metadata": {
        "id": "qkvZ4JhKInyU",
        "colab": {
          "base_uri": "https://localhost:8080/"
        },
        "outputId": "e3444b2f-1d10-4546-d9d6-3aed767656b5"
      },
      "outputs": [
        {
          "output_type": "stream",
          "name": "stdout",
          "text": [
            "10000\n",
            "14\n"
          ]
        }
      ],
      "source": [
        "#Type your code here\n",
        "rows = len(x)\n",
        "cols = len(x)\n",
        "print(x.shape [0])\n",
        "print(x.shape [1])\n"
      ]
    },
    {
      "cell_type": "code",
      "source": [
        "#Another way\n",
        "rows = 10000\n",
        "columns = 14\n",
        "print(rows)\n",
        "print(columns)"
      ],
      "metadata": {
        "id": "sUURrxelSJdq",
        "colab": {
          "base_uri": "https://localhost:8080/"
        },
        "outputId": "dccae768-a3d7-44e0-e4ac-7f44551f0a3f"
      },
      "execution_count": null,
      "outputs": [
        {
          "output_type": "stream",
          "name": "stdout",
          "text": [
            "10000\n",
            "14\n"
          ]
        }
      ]
    },
    {
      "cell_type": "markdown",
      "metadata": {
        "id": "oJ9xexrTInyV"
      },
      "source": [
        "**Question 3** - What is the average Purchase Price?"
      ]
    },
    {
      "cell_type": "code",
      "execution_count": null,
      "metadata": {
        "id": "G3ETU5HvInyW",
        "colab": {
          "base_uri": "https://localhost:8080/",
          "height": 297
        },
        "outputId": "a6177d2c-16b0-4829-fe78-1edbd6b35079"
      },
      "outputs": [
        {
          "output_type": "execute_result",
          "data": {
            "text/html": [
              "\n",
              "  <div id=\"df-ecab886d-955b-4b43-b7b1-04b074284186\">\n",
              "    <div class=\"colab-df-container\">\n",
              "      <div>\n",
              "<style scoped>\n",
              "    .dataframe tbody tr th:only-of-type {\n",
              "        vertical-align: middle;\n",
              "    }\n",
              "\n",
              "    .dataframe tbody tr th {\n",
              "        vertical-align: top;\n",
              "    }\n",
              "\n",
              "    .dataframe thead th {\n",
              "        text-align: right;\n",
              "    }\n",
              "</style>\n",
              "<table border=\"1\" class=\"dataframe\">\n",
              "  <thead>\n",
              "    <tr style=\"text-align: right;\">\n",
              "      <th></th>\n",
              "      <th>Credit Card</th>\n",
              "      <th>CC Security Code</th>\n",
              "      <th>Purchase Price</th>\n",
              "    </tr>\n",
              "  </thead>\n",
              "  <tbody>\n",
              "    <tr>\n",
              "      <th>count</th>\n",
              "      <td>1.000000e+04</td>\n",
              "      <td>10000.000000</td>\n",
              "      <td>10000.000000</td>\n",
              "    </tr>\n",
              "    <tr>\n",
              "      <th>mean</th>\n",
              "      <td>2.341374e+15</td>\n",
              "      <td>907.217800</td>\n",
              "      <td>50.347302</td>\n",
              "    </tr>\n",
              "    <tr>\n",
              "      <th>std</th>\n",
              "      <td>2.256103e+15</td>\n",
              "      <td>1589.693035</td>\n",
              "      <td>29.015836</td>\n",
              "    </tr>\n",
              "    <tr>\n",
              "      <th>min</th>\n",
              "      <td>6.040186e+10</td>\n",
              "      <td>0.000000</td>\n",
              "      <td>0.000000</td>\n",
              "    </tr>\n",
              "    <tr>\n",
              "      <th>25%</th>\n",
              "      <td>3.056322e+13</td>\n",
              "      <td>280.000000</td>\n",
              "      <td>25.150000</td>\n",
              "    </tr>\n",
              "    <tr>\n",
              "      <th>50%</th>\n",
              "      <td>8.699942e+14</td>\n",
              "      <td>548.000000</td>\n",
              "      <td>50.505000</td>\n",
              "    </tr>\n",
              "    <tr>\n",
              "      <th>75%</th>\n",
              "      <td>4.492298e+15</td>\n",
              "      <td>816.000000</td>\n",
              "      <td>75.770000</td>\n",
              "    </tr>\n",
              "    <tr>\n",
              "      <th>max</th>\n",
              "      <td>6.012000e+15</td>\n",
              "      <td>9993.000000</td>\n",
              "      <td>99.990000</td>\n",
              "    </tr>\n",
              "  </tbody>\n",
              "</table>\n",
              "</div>\n",
              "      <button class=\"colab-df-convert\" onclick=\"convertToInteractive('df-ecab886d-955b-4b43-b7b1-04b074284186')\"\n",
              "              title=\"Convert this dataframe to an interactive table.\"\n",
              "              style=\"display:none;\">\n",
              "        \n",
              "  <svg xmlns=\"http://www.w3.org/2000/svg\" height=\"24px\"viewBox=\"0 0 24 24\"\n",
              "       width=\"24px\">\n",
              "    <path d=\"M0 0h24v24H0V0z\" fill=\"none\"/>\n",
              "    <path d=\"M18.56 5.44l.94 2.06.94-2.06 2.06-.94-2.06-.94-.94-2.06-.94 2.06-2.06.94zm-11 1L8.5 8.5l.94-2.06 2.06-.94-2.06-.94L8.5 2.5l-.94 2.06-2.06.94zm10 10l.94 2.06.94-2.06 2.06-.94-2.06-.94-.94-2.06-.94 2.06-2.06.94z\"/><path d=\"M17.41 7.96l-1.37-1.37c-.4-.4-.92-.59-1.43-.59-.52 0-1.04.2-1.43.59L10.3 9.45l-7.72 7.72c-.78.78-.78 2.05 0 2.83L4 21.41c.39.39.9.59 1.41.59.51 0 1.02-.2 1.41-.59l7.78-7.78 2.81-2.81c.8-.78.8-2.07 0-2.86zM5.41 20L4 18.59l7.72-7.72 1.47 1.35L5.41 20z\"/>\n",
              "  </svg>\n",
              "      </button>\n",
              "      \n",
              "  <style>\n",
              "    .colab-df-container {\n",
              "      display:flex;\n",
              "      flex-wrap:wrap;\n",
              "      gap: 12px;\n",
              "    }\n",
              "\n",
              "    .colab-df-convert {\n",
              "      background-color: #E8F0FE;\n",
              "      border: none;\n",
              "      border-radius: 50%;\n",
              "      cursor: pointer;\n",
              "      display: none;\n",
              "      fill: #1967D2;\n",
              "      height: 32px;\n",
              "      padding: 0 0 0 0;\n",
              "      width: 32px;\n",
              "    }\n",
              "\n",
              "    .colab-df-convert:hover {\n",
              "      background-color: #E2EBFA;\n",
              "      box-shadow: 0px 1px 2px rgba(60, 64, 67, 0.3), 0px 1px 3px 1px rgba(60, 64, 67, 0.15);\n",
              "      fill: #174EA6;\n",
              "    }\n",
              "\n",
              "    [theme=dark] .colab-df-convert {\n",
              "      background-color: #3B4455;\n",
              "      fill: #D2E3FC;\n",
              "    }\n",
              "\n",
              "    [theme=dark] .colab-df-convert:hover {\n",
              "      background-color: #434B5C;\n",
              "      box-shadow: 0px 1px 3px 1px rgba(0, 0, 0, 0.15);\n",
              "      filter: drop-shadow(0px 1px 2px rgba(0, 0, 0, 0.3));\n",
              "      fill: #FFFFFF;\n",
              "    }\n",
              "  </style>\n",
              "\n",
              "      <script>\n",
              "        const buttonEl =\n",
              "          document.querySelector('#df-ecab886d-955b-4b43-b7b1-04b074284186 button.colab-df-convert');\n",
              "        buttonEl.style.display =\n",
              "          google.colab.kernel.accessAllowed ? 'block' : 'none';\n",
              "\n",
              "        async function convertToInteractive(key) {\n",
              "          const element = document.querySelector('#df-ecab886d-955b-4b43-b7b1-04b074284186');\n",
              "          const dataTable =\n",
              "            await google.colab.kernel.invokeFunction('convertToInteractive',\n",
              "                                                     [key], {});\n",
              "          if (!dataTable) return;\n",
              "\n",
              "          const docLinkHtml = 'Like what you see? Visit the ' +\n",
              "            '<a target=\"_blank\" href=https://colab.research.google.com/notebooks/data_table.ipynb>data table notebook</a>'\n",
              "            + ' to learn more about interactive tables.';\n",
              "          element.innerHTML = '';\n",
              "          dataTable['output_type'] = 'display_data';\n",
              "          await google.colab.output.renderOutput(dataTable, element);\n",
              "          const docLink = document.createElement('div');\n",
              "          docLink.innerHTML = docLinkHtml;\n",
              "          element.appendChild(docLink);\n",
              "        }\n",
              "      </script>\n",
              "    </div>\n",
              "  </div>\n",
              "  "
            ],
            "text/plain": [
              "        Credit Card  CC Security Code  Purchase Price\n",
              "count  1.000000e+04      10000.000000    10000.000000\n",
              "mean   2.341374e+15        907.217800       50.347302\n",
              "std    2.256103e+15       1589.693035       29.015836\n",
              "min    6.040186e+10          0.000000        0.000000\n",
              "25%    3.056322e+13        280.000000       25.150000\n",
              "50%    8.699942e+14        548.000000       50.505000\n",
              "75%    4.492298e+15        816.000000       75.770000\n",
              "max    6.012000e+15       9993.000000       99.990000"
            ]
          },
          "metadata": {},
          "execution_count": 58
        }
      ],
      "source": [
        "#Type your code here\n",
        "#avg = x[\"Purchase Price\"].mean()\n",
        "#print(avg)\n",
        "x.describe()"
      ]
    },
    {
      "cell_type": "markdown",
      "metadata": {
        "id": "mWEex_OWInyW"
      },
      "source": [
        "**Question 4** - What were the `highest` and `lowest` purchase prices?"
      ]
    },
    {
      "cell_type": "markdown",
      "source": [
        "**Comments**: Your logic is good, Jamiah. Applying this to the dataset that we already have we can use something like that:"
      ],
      "metadata": {
        "id": "eyvxFcpkpQM9"
      }
    },
    {
      "cell_type": "code",
      "source": [
        "ecom['Purchase Price'].max()"
      ],
      "metadata": {
        "colab": {
          "base_uri": "https://localhost:8080/"
        },
        "id": "aCw3_zJCqJvL",
        "outputId": "a69df138-b8d0-4601-d89d-8885e02b9229"
      },
      "execution_count": null,
      "outputs": [
        {
          "output_type": "execute_result",
          "data": {
            "text/plain": [
              "99.99"
            ]
          },
          "metadata": {},
          "execution_count": 6
        }
      ]
    },
    {
      "cell_type": "code",
      "source": [
        "ecom['Purchase Price'].min()"
      ],
      "metadata": {
        "colab": {
          "base_uri": "https://localhost:8080/"
        },
        "id": "4tyx8ZO7qLa8",
        "outputId": "32c7e348-fbdf-40f0-e84f-0c0ab5be8f50"
      },
      "execution_count": null,
      "outputs": [
        {
          "output_type": "execute_result",
          "data": {
            "text/plain": [
              "0.0"
            ]
          },
          "metadata": {},
          "execution_count": 7
        }
      ]
    },
    {
      "cell_type": "code",
      "source": [
        ""
      ],
      "metadata": {
        "id": "6qwMZhGKpy00"
      },
      "execution_count": null,
      "outputs": []
    },
    {
      "cell_type": "code",
      "execution_count": null,
      "metadata": {
        "id": "FGj5Pd3vInyX",
        "colab": {
          "base_uri": "https://localhost:8080/"
        },
        "outputId": "bcf6cf01-be0b-4ee8-d710-573a9208991d"
      },
      "outputs": [
        {
          "output_type": "stream",
          "name": "stdout",
          "text": [
            "1000.0\n"
          ]
        }
      ],
      "source": [
        "#Type your code here for the highest\n",
        "df = pd.DataFrame({\"Purchase Price\": [1000, 50.34, 29.01, 0.0, 25.15, 50.50, 75.77, 99.99]})\n",
        "column = df[\"Purchase Price\"]\n",
        "max_value = column.max()\n",
        "print(max_value)\n",
        "#df.max()"
      ]
    },
    {
      "cell_type": "code",
      "execution_count": null,
      "metadata": {
        "id": "clg91unvInyX",
        "colab": {
          "base_uri": "https://localhost:8080/"
        },
        "outputId": "f7a1ac35-c55a-4961-d1b2-ec78b4754627"
      },
      "outputs": [
        {
          "output_type": "execute_result",
          "data": {
            "text/plain": [
              "Purchase Price    0.0\n",
              "dtype: float64"
            ]
          },
          "metadata": {},
          "execution_count": 6
        }
      ],
      "source": [
        "#Type your code here for the lowest\n",
        "df.min()"
      ]
    },
    {
      "cell_type": "markdown",
      "metadata": {
        "id": "jKfXuLXoInyY"
      },
      "source": [
        "**Question 5** - How many people have English `'en'` as their Language of choice on the website?"
      ]
    },
    {
      "cell_type": "markdown",
      "source": [
        "**Comment**: This question can be broken into two parts. First, find if someone has the Language equal to `en`. Second, you just need to count the amount of data. For example, you could code it like this:"
      ],
      "metadata": {
        "id": "MgZkuUxTriNr"
      }
    },
    {
      "cell_type": "code",
      "source": [
        "ecom[ecom['Language']=='en']['Language'].count()"
      ],
      "metadata": {
        "colab": {
          "base_uri": "https://localhost:8080/"
        },
        "id": "fQPJrxdvsLL7",
        "outputId": "b84d9c96-838f-4411-9f9d-87b8d26333bc"
      },
      "execution_count": null,
      "outputs": [
        {
          "output_type": "execute_result",
          "data": {
            "text/plain": [
              "1098"
            ]
          },
          "metadata": {},
          "execution_count": 8
        }
      ]
    },
    {
      "cell_type": "code",
      "execution_count": null,
      "metadata": {
        "id": "2M8DmeMVInyY",
        "colab": {
          "base_uri": "https://localhost:8080/"
        },
        "outputId": "f07da44a-69e5-494a-aa4b-7a515b1cb083"
      },
      "outputs": [
        {
          "output_type": "stream",
          "name": "stdout",
          "text": [
            "0       el\n",
            "1       fr\n",
            "2       de\n",
            "3       es\n",
            "4       es\n",
            "        ..\n",
            "9995    it\n",
            "9996    pt\n",
            "9997    el\n",
            "9998    es\n",
            "9999    el\n",
            "Name: Language, Length: 10000, dtype: object\n"
          ]
        }
      ],
      "source": [
        "#Type your code here\n",
        "english = ecom[\"Language\"]\n",
        "print(english)"
      ]
    },
    {
      "cell_type": "markdown",
      "metadata": {
        "id": "NBkPZnmBInyY"
      },
      "source": [
        "**Question 6** - How many people have the job title of \"Lawyer\" ?"
      ]
    },
    {
      "cell_type": "code",
      "source": [
        "#Another way \n",
        "ecom[ecom['Job'] == 'Lawyer']['Job'].count()"
      ],
      "metadata": {
        "id": "nTtvVuF1Vpsx"
      },
      "execution_count": null,
      "outputs": []
    },
    {
      "cell_type": "markdown",
      "metadata": {
        "id": "3DT423PXInyZ"
      },
      "source": [
        "**Question 7** -How many people made the purchase during the AM and how many people made the purchase during PM ?\n",
        "\n",
        "(**Hint: Check out** [value_counts ()](http://pandas.pydata.org/pandas-docs/stable/generated/pandas.Series.value_counts.html))"
      ]
    },
    {
      "cell_type": "code",
      "execution_count": null,
      "metadata": {
        "id": "86VpKODHInya"
      },
      "outputs": [],
      "source": [
        "ecom['AM or PM'].value_counts()"
      ]
    },
    {
      "cell_type": "markdown",
      "metadata": {
        "id": "qq1O2UgqInya"
      },
      "source": [
        "**Question 8** - What are the 5 most common Job Titles?\n",
        "<br>(Hint: continue using value_counts())"
      ]
    },
    {
      "cell_type": "code",
      "execution_count": null,
      "metadata": {
        "id": "_5btVSMYInya"
      },
      "outputs": [],
      "source": [
        "#Type your code here\n",
        "ecom['Job'].value_counts().head(5) "
      ]
    },
    {
      "cell_type": "markdown",
      "metadata": {
        "id": "Iy5b2YZAInyb"
      },
      "source": [
        "**Question 9** - Someone made a purchase that came from Lot: \"90 WT\" , what was the Purchase Price for this transaction?"
      ]
    },
    {
      "cell_type": "markdown",
      "source": [
        "**Comment**: This question can be broken into two parts. First, find if someone has the Lot equal to 90 WT. Second, just select the purchase price to show up if it is true. For example, you could code it like this:"
      ],
      "metadata": {
        "id": "HiDA8H0vxUEi"
      }
    },
    {
      "cell_type": "code",
      "execution_count": null,
      "metadata": {
        "id": "MvasCsFoInyb"
      },
      "outputs": [],
      "source": [
        "#Type your code here\n",
        "ecom[ecom['Lot']=='90 WT']['Purchase Price']"
      ]
    },
    {
      "cell_type": "markdown",
      "metadata": {
        "id": "ZuOBNXpxInyb"
      },
      "source": [
        "**Question 10** - What is the email of the person with the following Credit Card Number: 4926535242672853?"
      ]
    },
    {
      "cell_type": "code",
      "execution_count": null,
      "metadata": {
        "id": "1cHLioeeInyc"
      },
      "outputs": [],
      "source": [
        "#Type your code here\n",
        "ecom[ecom[\"Credit Card\"] == 4926535242672853]['Email'] "
      ]
    },
    {
      "cell_type": "markdown",
      "metadata": {
        "id": "4HtQpLj1Inyc"
      },
      "source": [
        "**Question 11** - How many people have American Express as their Credit Card Provider and made a purchase above $95 ?"
      ]
    },
    {
      "cell_type": "code",
      "execution_count": null,
      "metadata": {
        "id": "VBdOHrSSInyc"
      },
      "outputs": [],
      "source": [
        "#Type your code here\n",
        "len(ecom[(ecom['CC Provider']=='American Express') & (ecom['Purchase Price']>95)])"
      ]
    },
    {
      "cell_type": "markdown",
      "metadata": {
        "id": "6fsEXkzsInyc"
      },
      "source": [
        "**Question 12 (challenge)** How many people have a credit card that expires in 2025?"
      ]
    },
    {
      "cell_type": "code",
      "execution_count": null,
      "metadata": {
        "id": "FZPXcPu7Inyd"
      },
      "outputs": [],
      "source": [
        "#Type your code here\n",
        "sum(ecom['CC Exp Date'].apply(lambda x: x[3:]) == '25')"
      ]
    },
    {
      "cell_type": "markdown",
      "metadata": {
        "id": "IPqJ_SBtInyd"
      },
      "source": [
        "**Question 13 (challenge)** What are the top 5 most popular email providers/hosts (e.g. gmail.com, yahoo.com, etc...)?"
      ]
    },
    {
      "cell_type": "code",
      "execution_count": null,
      "metadata": {
        "id": "_APlD8gsInyd"
      },
      "outputs": [],
      "source": [
        "#Type your code here\n",
        "ecom['Email'].apply(lambda x: x.split('@')[1]).value_counts().head(5)"
      ]
    },
    {
      "cell_type": "markdown",
      "source": [
        "**Part 2**<br>\n",
        "Let's exercise when the dataframe has missing values. We will work with another dataset to train this skill. So, please, execute the code to import the dataset.<br>\n",
        "We will be using the [SF Salaries Dataset](https://www.kaggle.com/kaggle/sf-salaries) from Kaggle! Just follow along and complete the tasks outlined in bold below. The tasks will get harder and harder as you go along."
      ],
      "metadata": {
        "id": "ixKWuERuYJ3z"
      }
    },
    {
      "cell_type": "code",
      "source": [
        "# Importing the dataset as a CSV file\n",
        "df_sf = pd.read_csv('https://raw.githubusercontent.com/daveaditya/udemy-ds-ml-bootcamp/master/04-Pandas-Exercises/Salaries.csv')"
      ],
      "metadata": {
        "id": "Y-3ddFzWfYsh"
      },
      "execution_count": null,
      "outputs": []
    },
    {
      "cell_type": "markdown",
      "source": [
        "**Use the `df_sf` dataframe to answer questions 14 until 22.**"
      ],
      "metadata": {
        "id": "KSnjPT8Ied3Q"
      }
    },
    {
      "cell_type": "markdown",
      "source": [
        "**Question 14** - Show the number of missing values per attribute on a percent scale. Which stratagy could you apply to clean this dataset and Why do you use it."
      ],
      "metadata": {
        "id": "0wR_JJgBoDqx"
      }
    },
    {
      "cell_type": "code",
      "source": [
        "#Type your code here\n",
        "df_sf.isnull().sum() / len(df_sf) * 100"
      ],
      "metadata": {
        "id": "WeT8z9sclG3R"
      },
      "execution_count": null,
      "outputs": []
    },
    {
      "cell_type": "markdown",
      "source": [
        "**Question 15** - Drop the attributes that do not have any value in the dataframe."
      ],
      "metadata": {
        "id": "or9XoAqTooxl"
      }
    },
    {
      "cell_type": "code",
      "source": [
        "#Type your code here\n",
        "df_sf.drop(['Notes','Status'], axis=1, inplace=True)"
      ],
      "metadata": {
        "id": "EYS1fGjKlevH"
      },
      "execution_count": null,
      "outputs": []
    },
    {
      "cell_type": "markdown",
      "source": [
        "**Question 16** - For the remaining data use the panda's function to fill the missing values."
      ],
      "metadata": {
        "id": "lCfl5QsvwCbQ"
      }
    },
    {
      "cell_type": "code",
      "source": [
        "#Type your code here\n",
        "df_sf.fillna(method=\"backfill\", inplace=True)\n",
        "\n",
        "# 2 ways examples\n",
        "# You can use the interpolation method\n",
        "#df_sf.interpolate(method='linear', limit_direction='backward', axis=0, inplace=True)\n",
        "#df_sf.interpolate(method='polynomial', order=2, inplace=True)"
      ],
      "metadata": {
        "id": "A1wZoBLVtNzN"
      },
      "execution_count": null,
      "outputs": []
    },
    {
      "cell_type": "markdown",
      "source": [
        "**Question 17** - What is the average BasePay ?"
      ],
      "metadata": {
        "id": "8fok7qFd7fjQ"
      }
    },
    {
      "cell_type": "code",
      "source": [
        "#type your code here\n",
        "df_sf['BasePay'].mean()"
      ],
      "metadata": {
        "id": "H5gVwe0l3ctl"
      },
      "execution_count": null,
      "outputs": []
    },
    {
      "cell_type": "markdown",
      "source": [
        "**Question 18** - What is the highest amount of OvertimePay in the dataset ?"
      ],
      "metadata": {
        "id": "fJ6xrovr8Wfg"
      }
    },
    {
      "cell_type": "code",
      "source": [
        "#Type your code here\n",
        "df_sf['OvertimePay'].max()"
      ],
      "metadata": {
        "id": "kTiOzDIB5MrK"
      },
      "execution_count": null,
      "outputs": []
    },
    {
      "cell_type": "markdown",
      "source": [
        "**Question 19**(Challange) - What was the average (mean) of all employees per year? (2011-2014)<br>\n",
        "**Hint:** [Group by method](https://pandas.pydata.org/docs/reference/api/pandas.DataFrame.groupby.html)"
      ],
      "metadata": {
        "id": "6G5i6VIEcefn"
      }
    },
    {
      "cell_type": "code",
      "source": [
        "#Type your code here\n",
        "df_sf.groupby(by=['Year']).mean()"
      ],
      "metadata": {
        "id": "4ZYjw9azcysI"
      },
      "execution_count": null,
      "outputs": []
    },
    {
      "cell_type": "markdown",
      "source": [
        "**Question 20** - Regarding the groupBy of **question 19**, how can you show only the **BasePay** attribute?"
      ],
      "metadata": {
        "id": "gdXLzofU8qpQ"
      }
    },
    {
      "cell_type": "code",
      "source": [
        "#Type you code here\n",
        "df_sf.groupby(by=['Year']).mean()['BasePay']\n",
        "\n",
        "# Another way\n",
        "#df_sf.groupby(by=['Year'])[['BasePay']].mean()"
      ],
      "metadata": {
        "id": "c6y0gzsi8gey"
      },
      "execution_count": null,
      "outputs": []
    },
    {
      "cell_type": "markdown",
      "source": [
        "**Question 21**(Challenge) - How many people have the word Chief in their job title? (This is pretty tricky)\n",
        "<br>\n",
        "**Hint:**<br> 1) define a function to check the series of the attribute column;<br>2) Use the apply method with the lambda to call your defined function to get the sum. [apply method](https://pandas.pydata.org/docs/reference/api/pandas.DataFrame.apply.html)"
      ],
      "metadata": {
        "id": "UiPM3GIw93HT"
      }
    },
    {
      "cell_type": "code",
      "source": [
        "#Type your def func here\n",
        "def chief_string(title):\n",
        "    if 'chief' in title.lower():\n",
        "        return True\n",
        "    else:\n",
        "        return False"
      ],
      "metadata": {
        "id": "xjvNYg2r915-"
      },
      "execution_count": null,
      "outputs": []
    },
    {
      "cell_type": "code",
      "source": [
        "#Type your code here with the sum using the apply\n",
        "sum(df_sf['JobTitle'].apply(lambda x: chief_string(x)))"
      ],
      "metadata": {
        "id": "QvZCVmlP_OnW"
      },
      "execution_count": null,
      "outputs": []
    },
    {
      "cell_type": "markdown",
      "source": [
        "**Question 22**(Challenge) - Show the dataframe sorted by the emploee name from A to Z.<br>\n",
        "**Hint:** [sort_values()](https://pandas.pydata.org/docs/reference/api/pandas.DataFrame.sort_values.html)"
      ],
      "metadata": {
        "id": "drPw-mRNZqXv"
      }
    },
    {
      "cell_type": "code",
      "source": [
        "#Type your code here\n",
        "df_sf.sort_values(by=['EmployeeName'])"
      ],
      "metadata": {
        "id": "EDqECVS4_inI"
      },
      "execution_count": null,
      "outputs": []
    },
    {
      "cell_type": "markdown",
      "source": [
        "## **GREAT JOB!!!**"
      ],
      "metadata": {
        "id": "75auCM6bkQmo"
      }
    }
  ],
  "metadata": {
    "kernelspec": {
      "display_name": "Python 3",
      "language": "python",
      "name": "python3"
    },
    "language_info": {
      "codemirror_mode": {
        "name": "ipython",
        "version": 3
      },
      "file_extension": ".py",
      "mimetype": "text/x-python",
      "name": "python",
      "nbconvert_exporter": "python",
      "pygments_lexer": "ipython3",
      "version": "3.7.3"
    },
    "colab": {
      "name": "Copy of Jamiah McQuiller Pandas Exercises.pynb",
      "provenance": [],
      "collapsed_sections": [],
      "include_colab_link": true
    }
  },
  "nbformat": 4,
  "nbformat_minor": 0
}